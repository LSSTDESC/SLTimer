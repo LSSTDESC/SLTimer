{
 "cells": [
  {
   "cell_type": "markdown",
   "metadata": {},
   "source": [
    "# Sigma_intrinsic Analysis\n",
    "We introduce one parameter $\\sigma_{intrinsic}$ in our spline model because the error bar of the gateway data do not properly describe the extra noise introduced by sampling on highly-fluctuating quasar light curve. The $\\sigma_{intrinsic}$ enlarge the error bar by $\\sigma_{new}=\\sqrt{\\sigma_{data}^2+\\sigma_{intrinsic}^2}$\n",
    "In this notebook, I am going to show how log-likelihood change given different $\\sigma_{intrinsic}$. \n"
   ]
  },
  {
   "cell_type": "markdown",
   "metadata": {},
   "source": [
    "##  All data analysis"
   ]
  },
  {
   "cell_type": "markdown",
   "metadata": {},
   "source": [
    "First, we'll import `SLTimer`, as well as a few other important commands. "
   ]
  },
  {
   "cell_type": "code",
   "execution_count": null,
   "metadata": {
    "collapsed": false,
    "scrolled": false
   },
   "outputs": [],
   "source": [
    "from __future__ import print_function\n",
    "import os, urllib, numpy as np\n",
    "%matplotlib inline\n",
    "import desc.sltimer\n",
    "\n",
    "%load_ext autoreload\n",
    "%autoreload 2"
   ]
  },
  {
   "cell_type": "markdown",
   "metadata": {},
   "source": [
    "## Data Munging\n",
    "\n",
    "Start a timer object, download some data to use, and plot the data. "
   ]
  },
  {
   "cell_type": "markdown",
   "metadata": {},
   "source": [
    "True Time delay \n",
    "\n",
    "Note: -1 comes from different time delay difinition between TDC2 and PyCS."
   ]
  },
  {
   "cell_type": "code",
   "execution_count": null,
   "metadata": {
    "collapsed": false
   },
   "outputs": [],
   "source": [
    "truthurl = \"http://www.slac.stanford.edu/~pjm/LSST/DESC/SLTimeDelayChallenge/release/tdc2/gateway/gatewaytruth.txt\"\n",
    "truthfile = truthurl.split('/')[-1]\n",
    "if not os.path.isfile(truthfile):\n",
    "    urllib.urlretrieve(truthurl, truthfile)\n",
    "d = np.loadtxt(truthfile).transpose()\n",
    "truth = d[0][1]\n",
    "print(\"True Time Delays:\", -1*truth)"
   ]
  },
  {
   "cell_type": "code",
   "execution_count": null,
   "metadata": {
    "collapsed": false
   },
   "outputs": [],
   "source": [
    "timer = desc.sltimer.SLTimer()\n",
    "url = \"http://www.slac.stanford.edu/~pjm/LSST/DESC/SLTimeDelayChallenge/release/tdc2/gateway/tdc2-gateway-2.txt\"\n",
    "timer.download(url, and_read=True, format='tdc2')\n",
    "timer.whiten(seasonal=False)\n",
    "timer.display_light_curves()\n",
    "name_data=\"Gateway_2_ml350_all_50_delay_chi2_1000_samples.txt\"\n",
    "SampleUrl=\"http://stanford.edu/~chto/SLTimer_TDC2_Nolensing_number_of_Knots_test/GateWay2/\""
   ]
  },
  {
   "cell_type": "code",
   "execution_count": null,
   "metadata": {
    "collapsed": false
   },
   "outputs": [],
   "source": [
    "timer.ml_knotstep=350\n",
    "timer.knotstep=50"
   ]
  },
  {
   "cell_type": "code",
   "execution_count": null,
   "metadata": {
    "collapsed": false
   },
   "outputs": [],
   "source": [
    "import os, urllib\n",
    "def getFile(knotstep):\n",
    "    name=name_data.format(knotstep)\n",
    "    url=SampleUrl+name\n",
    "    urllib.urlretrieve(url, name)\n",
    "def plot_file(timer, knotstep, batch_sigma=False, method=\"plot_log_file\"):\n",
    "    name=name_data.format(knotstep)\n",
    "    print(name)\n",
    "    timer.plot_likelihood_from_file(name, outName=\"\", chisquare=True, bins=200,corner_plot=False, add_prior=True, batch_sigma=batch_sigma, method=method)\n",
    "def batch_analyze(timer, knotstep, batch_sigma=False, download=True, method=\"plot_log_file\"):\n",
    "    timer.knotstep=knotstep\n",
    "    timer.ml_knotstep=350\n",
    "    if download:\n",
    "        getFile(knotstep)\n",
    "    plot_file(timer, knotstep, batch_sigma=batch_sigma, method=method)\n",
    "    print(\"degree of freedom is : {0}\".format(timer.degree_of_freedom()))\n",
    "def plot_light_curve(timer, delay, knotstep,jdrange=(59500,63100)):\n",
    "    timer.knotstep=knotstep\n",
    "    lcs, agn = timer.compute_chisq(delay=[delay], getlcs=True)\n",
    "    timer.display_light_curves(given_curve=(lcs,agn),jdrange=jdrange)\n",
    "def combile_sigma_File(fileArray, outName):\n",
    "    with open(outName, 'w') as outfile:\n",
    "        for index,fname in enumerate(fileArray):\n",
    "            with open(fname) as infile:\n",
    "                for line in infile:\n",
    "                    if index!=0:\n",
    "                        if line[0]=='#':\n",
    "                            continue\n",
    "                    outfile.write(line)"
   ]
  },
  {
   "cell_type": "markdown",
   "metadata": {},
   "source": [
    "get likelihood files"
   ]
  },
  {
   "cell_type": "code",
   "execution_count": null,
   "metadata": {
    "collapsed": false
   },
   "outputs": [],
   "source": [
    "name_data_original=\"Gateway_2_Rescaled_{0}_ml350_all_50_delay_chi2_1000_samples.txt\"\n",
    "for sigma in [0,0.2,0.02,0.002,0.0002]:\n",
    "    name_data=name_data_original.format(sigma)\n",
    "    getFile(knotstep=50)"
   ]
  },
  {
   "cell_type": "code",
   "execution_count": null,
   "metadata": {
    "collapsed": false
   },
   "outputs": [],
   "source": [
    "combile_sigma_File(fileArray=[\"Gateway_2_Rescaled_0_ml350_all_50_delay_chi2_1000_samples.txt\",\n",
    "                              \"Gateway_2_Rescaled_0.2_ml350_all_50_delay_chi2_1000_samples.txt\",\n",
    "                              \"Gateway_2_Rescaled_0.02_ml350_all_50_delay_chi2_1000_samples.txt\",\n",
    "                              \"Gateway_2_Rescaled_0.002_ml350_all_50_delay_chi2_1000_samples.txt\",\n",
    "                              \"Gateway_2_Rescaled_0.0002_ml350_all_50_delay_chi2_1000_samples.txt\"], \n",
    "                   outName='combined.txt')"
   ]
  },
  {
   "cell_type": "markdown",
   "metadata": {},
   "source": [
    "combined log likelihood"
   ]
  },
  {
   "cell_type": "code",
   "execution_count": null,
   "metadata": {
    "collapsed": false
   },
   "outputs": [],
   "source": [
    "name_data=\"combined.txt\"\n",
    "batch_analyze(timer, knotstep=50, batch_sigma=True, download=False)"
   ]
  },
  {
   "cell_type": "markdown",
   "metadata": {},
   "source": [
    "Sigma_init = 0.2 is too large for this figure, so I plot it individually."
   ]
  },
  {
   "cell_type": "code",
   "execution_count": null,
   "metadata": {
    "collapsed": false,
    "scrolled": false
   },
   "outputs": [],
   "source": [
    "name_data=\"Gateway_2_Rescaled_0.2_ml350_all_50_delay_chi2_1000_samples.txt\"\n",
    "batch_analyze(timer, knotstep=50, method=\"plot exp in same graph\")"
   ]
  },
  {
   "cell_type": "code",
   "execution_count": null,
   "metadata": {
    "collapsed": false
   },
   "outputs": [],
   "source": [
    "name_data=\"Gateway_2_Rescaled_0.2_ml350_all_50_delay_chi2_1000_samples.txt\"\n",
    "batch_analyze(timer, knotstep=50)"
   ]
  },
  {
   "cell_type": "markdown",
   "metadata": {},
   "source": [
    "To compare I plot sigma=0"
   ]
  },
  {
   "cell_type": "code",
   "execution_count": null,
   "metadata": {
    "collapsed": false
   },
   "outputs": [],
   "source": [
    "name_data=\"Gateway_2_Rescaled_0_ml350_all_50_delay_chi2_1000_samples.txt\"\n",
    "batch_analyze(timer, knotstep=50)"
   ]
  },
  {
   "cell_type": "markdown",
   "metadata": {},
   "source": [
    "Another way to see this is to plot likelihood to sigma diagram given true time delay"
   ]
  },
  {
   "cell_type": "code",
   "execution_count": null,
   "metadata": {
    "collapsed": true
   },
   "outputs": [],
   "source": [
    "def get_loglikelihood(timer, sigma, delay):\n",
    "    timer = desc.sltimer.SLTimer()\n",
    "    timer.download(url, and_read=True, format='tdc2')\n",
    "    timer.whiten(seasonal=False)\n",
    "    timer.sigma_intrinsic = sigma\n",
    "    timer.rescale_noise()\n",
    "    chisquare=timer.chisquare_to_loglikelihood(timer.compute_chisq([delay], batch=False, getlcs=False))\n",
    "    timer.reset_noise() \n",
    "    return chisquare"
   ]
  },
  {
   "cell_type": "code",
   "execution_count": null,
   "metadata": {
    "collapsed": false,
    "scrolled": true
   },
   "outputs": [],
   "source": [
    "sigma_Array=np.logspace(-2,0,50)\n",
    "delays=[-40,-30,-20,-10,0,10,20,30,40]\n",
    "likelihoodResult={}\n",
    "for delay in delays:\n",
    "    likelihood=[]\n",
    "    newsigmaArray=[]\n",
    "    for sigma in sigma_Array:\n",
    "        try:\n",
    "            likelihood.append(get_loglikelihood(timer, sigma, delay))\n",
    "            newsigmaArray.append(sigma)\n",
    "        except:\n",
    "            print(sigma, \"\\n\")\n",
    "            continue\n",
    "    likelihoodResult[delay]=[newsigmaArray, likelihood]\n",
    "np.save(\"likelihoodResult.npy\", likelihoodResult)"
   ]
  },
  {
   "cell_type": "code",
   "execution_count": null,
   "metadata": {
    "collapsed": false
   },
   "outputs": [],
   "source": [
    "print(likelihoodResult.keys())\n",
    "from matplotlib import pyplot as plt\n",
    "print(min(sigma_Array))\n",
    "for number, delay in enumerate(delays):\n",
    "    print(number)\n",
    "    likelihood_delay=np.array(likelihoodResult[delay])\n",
    "    plt.plot(likelihood_delay[0], -np.log(-likelihood_delay[1]),\"-\", label=str(delay))\n",
    "plt.ylabel(\"-log(-log(likelihood))\")\n",
    "plt.xlabel('sigma_instrinsic')\n",
    "plt.legend()"
   ]
  },
  {
   "cell_type": "markdown",
   "metadata": {
    "collapsed": true
   },
   "source": [
    "We see the peak is at 0.2, which is consitant with what we saw."
   ]
  },
  {
   "cell_type": "markdown",
   "metadata": {},
   "source": [
    "Conclusion:\n",
    "1. sigma=0.2 do improve the fitting. \n",
    "2. the posterior  of sigma =0.2 recover the true time delay\n",
    "3. I am still worried about why the likelihood for sigma=0.2 do not recover the true time delay (In fact even get worse compring to sigma=0)"
   ]
  }
 ],
 "metadata": {
  "kernelspec": {
   "display_name": "Python 2",
   "language": "python",
   "name": "python2"
  },
  "language_info": {
   "codemirror_mode": {
    "name": "ipython",
    "version": 2
   },
   "file_extension": ".py",
   "mimetype": "text/x-python",
   "name": "python",
   "nbconvert_exporter": "python",
   "pygments_lexer": "ipython2",
   "version": "2.7.10"
  }
 },
 "nbformat": 4,
 "nbformat_minor": 0
}
